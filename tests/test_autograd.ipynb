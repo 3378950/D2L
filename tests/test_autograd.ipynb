{
 "cells": [
  {
   "cell_type": "code",
   "execution_count": null,
   "metadata": {},
   "outputs": [],
   "source": []
  }
 ],
 "metadata": {
  "kernelspec": {
   "display_name": "Python 3.8.12 ('d2l')",
   "language": "python",
   "name": "python3"
  },
  "language_info": {
   "name": "python",
   "version": "3.8.12"
  },
  "orig_nbformat": 4,
  "vscode": {
   "interpreter": {
    "hash": "ce764e1d5b295c24794c5df90907adfbe7af7c3602bed53281feb8274157adb9"
   }
  }
 },
 "nbformat": 4,
 "nbformat_minor": 2
}
